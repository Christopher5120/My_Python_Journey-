{
 "cells": [
  {
   "cell_type": "code",
   "execution_count": 16,
   "id": "405f3bd3",
   "metadata": {},
   "outputs": [
    {
     "name": "stdout",
     "output_type": "stream",
     "text": [
      "Enter heights 156 178 165 171 187\n",
      "857\n",
      "5\n",
      "171\n"
     ]
    }
   ],
   "source": [
    "height = input(\"Enter heights \").split()\n",
    "for n in range(0, len(height)):\n",
    "    height[n] = int(height[n])\n",
    "\n",
    "total_height = 0\n",
    "\n",
    "for i in height:\n",
    "    total_height += i\n",
    "print(total_height)\n",
    "    \n",
    "\n",
    "total_students = len(height)\n",
    "print(total_students)\n",
    "\n",
    "average_height = round(total_height / total_students)\n",
    "print(average_height)"
   ]
  },
  {
   "cell_type": "code",
   "execution_count": null,
   "id": "01c29a5e",
   "metadata": {},
   "outputs": [],
   "source": []
  }
 ],
 "metadata": {
  "kernelspec": {
   "display_name": "Python 3 (ipykernel)",
   "language": "python",
   "name": "python3"
  },
  "language_info": {
   "codemirror_mode": {
    "name": "ipython",
    "version": 3
   },
   "file_extension": ".py",
   "mimetype": "text/x-python",
   "name": "python",
   "nbconvert_exporter": "python",
   "pygments_lexer": "ipython3",
   "version": "3.11.3"
  }
 },
 "nbformat": 4,
 "nbformat_minor": 5
}
