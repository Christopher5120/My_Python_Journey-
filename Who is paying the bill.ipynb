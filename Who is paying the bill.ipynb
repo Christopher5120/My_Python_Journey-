{
 "cells": [
  {
   "cell_type": "code",
   "execution_count": 10,
   "id": "cc403c09",
   "metadata": {},
   "outputs": [
    {
     "name": "stdout",
     "output_type": "stream",
     "text": [
      "Give me a list of names separated by a comma: jane, bb, chris. tucker \n",
      " chris. tucker  is going to pay the bill\n"
     ]
    }
   ],
   "source": [
    "import random\n",
    "\n",
    "name_str = input(\"Give me a list of names separated by a comma: \")\n",
    "name = name_str.split(\",\")\n",
    "name_item = len(name)\n",
    "random_choice = random.randint(0, name_item-1)\n",
    "who_is_paying_the_bill = name[random_choice]\n",
    "print(who_is_paying_the_bill + \" is going to pay the bill\")"
   ]
  },
  {
   "cell_type": "code",
   "execution_count": null,
   "id": "c753f8d8",
   "metadata": {},
   "outputs": [],
   "source": []
  },
  {
   "cell_type": "code",
   "execution_count": null,
   "id": "c89da9d5",
   "metadata": {},
   "outputs": [],
   "source": []
  },
  {
   "cell_type": "code",
   "execution_count": null,
   "id": "19d1758e",
   "metadata": {},
   "outputs": [],
   "source": []
  },
  {
   "cell_type": "code",
   "execution_count": null,
   "id": "f895225c",
   "metadata": {},
   "outputs": [],
   "source": []
  },
  {
   "cell_type": "code",
   "execution_count": null,
   "id": "f4e5c4ec",
   "metadata": {},
   "outputs": [],
   "source": []
  }
 ],
 "metadata": {
  "kernelspec": {
   "display_name": "Python 3 (ipykernel)",
   "language": "python",
   "name": "python3"
  },
  "language_info": {
   "codemirror_mode": {
    "name": "ipython",
    "version": 3
   },
   "file_extension": ".py",
   "mimetype": "text/x-python",
   "name": "python",
   "nbconvert_exporter": "python",
   "pygments_lexer": "ipython3",
   "version": "3.11.3"
  }
 },
 "nbformat": 4,
 "nbformat_minor": 5
}
